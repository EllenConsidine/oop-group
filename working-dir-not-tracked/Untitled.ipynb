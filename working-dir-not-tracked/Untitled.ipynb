{
 "cells": [
  {
   "cell_type": "code",
   "execution_count": 34,
   "metadata": {},
   "outputs": [
    {
     "name": "stdout",
     "output_type": "stream",
     "text": [
      "Help on built-in function getattr in module builtins:\n",
      "\n",
      "getattr(...)\n",
      "    getattr(object, name[, default]) -> value\n",
      "    \n",
      "    Get a named attribute from an object; getattr(x, 'y') is equivalent to x.y.\n",
      "    When a default argument is given, it is returned when the attribute doesn't\n",
      "    exist; without it, an exception is raised in that case.\n",
      "\n"
     ]
    }
   ],
   "source": [
    "from collections import OrderedDict\n",
    "dog = [\"wer\",\"wer\"]\n",
    "dir(dog)\n",
    "\n",
    "type(dog)\n",
    "\n",
    "#help(list)\n",
    "# get parent class\n",
    "\n",
    "# The __bases__ attr should allow for \n",
    "OrderedDict.__bases__\n",
    "\n",
    "law = OrderedDict({\"dog\":[4],\n",
    "                  \"fred\":[8]})\n",
    "\n",
    "OrderedDict.__bases__\n",
    "type(law).__bases__\n",
    "\n",
    "\n",
    "\n",
    "#help(law)\n",
    "\n",
    "#getattr(law)\n",
    "help(getattr)"
   ]
  }
 ],
 "metadata": {
  "kernelspec": {
   "display_name": "Python [conda env:earth-analytics-python]",
   "language": "python",
   "name": "conda-env-earth-analytics-python-py"
  },
  "language_info": {
   "codemirror_mode": {
    "name": "ipython",
    "version": 3
   },
   "file_extension": ".py",
   "mimetype": "text/x-python",
   "name": "python",
   "nbconvert_exporter": "python",
   "pygments_lexer": "ipython3",
   "version": "3.6.6"
  }
 },
 "nbformat": 4,
 "nbformat_minor": 2
}
